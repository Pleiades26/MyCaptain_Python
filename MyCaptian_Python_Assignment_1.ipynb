{
  "nbformat": 4,
  "nbformat_minor": 0,
  "metadata": {
    "colab": {
      "name": "MyCaptian_Python Assignment 1.ipynb",
      "provenance": [],
      "collapsed_sections": []
    },
    "kernelspec": {
      "name": "python3",
      "display_name": "Python 3"
    }
  },
  "cells": [
    {
      "cell_type": "code",
      "metadata": {
        "id": "_sG4pQQmh1yi",
        "colab_type": "code",
        "colab": {
          "base_uri": "https://localhost:8080/",
          "height": 69
        },
        "outputId": "f0773fe3-c4df-4132-c805-c325d0466289"
      },
      "source": [
        "## MyCaptian_Python Assignment 1\n",
        "\n",
        "# Compute area of a circle when given it's radius:\n",
        "\n",
        "import math\n",
        "\n",
        "radius = float(input(\"Enter the radius of the circle: \"))\n",
        "\n",
        "area = math.pi*(radius**2)\n",
        "\n",
        "print(\"\\nThe area of the circle with radius\", radius, \"is: \", end=\" \")\n",
        "print(area)"
      ],
      "execution_count": 21,
      "outputs": [
        {
          "output_type": "stream",
          "text": [
            "Enter the radius of the circle: 1.1\n",
            "\n",
            "The area of the circle with radius 1.1 is:  3.8013271108436504\n"
          ],
          "name": "stdout"
        }
      ]
    },
    {
      "cell_type": "code",
      "metadata": {
        "id": "lz-cCSST0eY1",
        "colab_type": "code",
        "colab": {}
      },
      "source": [
        ""
      ],
      "execution_count": 0,
      "outputs": []
    },
    {
      "cell_type": "code",
      "metadata": {
        "id": "Ok9Pz1-flne_",
        "colab_type": "code",
        "colab": {
          "base_uri": "https://localhost:8080/",
          "height": 69
        },
        "outputId": "ee0e7a04-2757-4c88-c626-769717cc2c06"
      },
      "source": [
        "# Praogram to accept a file name from the user and print it's extension:\n",
        "\n",
        "fname = input(\"Enter the name of the file (with extension): \")\n",
        "\n",
        "ext = fname.split('.')\n",
        "#print(ext)\n",
        "\n",
        "del ext[0]\n",
        "\n",
        "#print(ext)\n",
        "\n",
        "if(ext[0] == \"py\"):\n",
        "  print(\"\\nThe extension of the file is: 'python'\")\n",
        "if(ext[0] == \"txt\"):\n",
        "  print(\"\\nThe extension of the file is: 'text file'\")\n",
        "if(ext[0] == \"csv\"):\n",
        "  print(\"\\nThe extension of the file is: 'comma separated values'\")\n",
        "\n"
      ],
      "execution_count": 19,
      "outputs": [
        {
          "output_type": "stream",
          "text": [
            "Enter the name of the file (with extension): abc.py\n",
            "\n",
            "The extension of the file is: 'python'\n"
          ],
          "name": "stdout"
        }
      ]
    }
  ]
}